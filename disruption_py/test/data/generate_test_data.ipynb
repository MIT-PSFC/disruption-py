{
 "cells": [
  {
   "cell_type": "code",
   "execution_count": 1,
   "metadata": {},
   "outputs": [],
   "source": [
    "import numpy as np \n",
    "\n",
    "from disruption_py.database import create_d3d_handler, create_cmod_handler\n",
    "from disruption_py.shots import D3DShot,CModShot, D3D_DISRUPTED_SHOT\n",
    "NUM_TEST_SHOTS = 10"
   ]
  },
  {
   "attachments": {},
   "cell_type": "markdown",
   "metadata": {},
   "source": [
    "# Generate D3D test data"
   ]
  },
  {
   "cell_type": "code",
   "execution_count": 11,
   "metadata": {},
   "outputs": [],
   "source": [
    "d3d = create_d3d_handler()\n",
    "# Get 10 shot_ids from a shuffled list of disruption_warning_Shotlist \n",
    "test_shot_ids = d3d.get_disruption_warning_shotlist().values\n",
    "np.random.shuffle(test_shot_ids)\n",
    "test_shot_ids = test_shot_ids[:NUM_TEST_SHOTS].flatten().tolist()\n",
    "test_shots_df = d3d.get_shot_data(test_shot_ids)\n",
    "test_shots_df.to_pickle(\"./d3d_test_shot_data.pkl\")\n"
   ]
  },
  {
   "cell_type": "code",
   "execution_count": 5,
   "metadata": {},
   "outputs": [
    {
     "name": "stderr",
     "output_type": "stream",
     "text": [
      "Failed to populate get_h_parameters\n",
      "Failed to populate get_n1_bradial_parameters\n",
      "Failed to populate get_n1rms_parameters\n",
      "[Shot 175552]:Failed to get CVA and XDIV from MDSPlus. Calculating locally, results may be inaccurate.\n"
     ]
    },
    {
     "name": "stdout",
     "output_type": "stream",
     "text": [
      "(2368, 65, 65)\n"
     ]
    },
    {
     "name": "stderr",
     "output_type": "stream",
     "text": [
      "Failed to populate get_peaking_factors\n"
     ]
    },
    {
     "name": "stdout",
     "output_type": "stream",
     "text": [
      "(46, 2368)\n",
      "Bolo data is garbage\n"
     ]
    }
   ],
   "source": [
    "shot = D3DShot(D3D_DISRUPTED_SHOT, 'EFIT05',\n",
    "            disruption_time=4.369214483261109, timebase_signal='disruption_timebase')\n",
    "np.save(\"./d3d_test_shot_disruption_times.npy\", shot._times)"
   ]
  },
  {
   "cell_type": "code",
   "execution_count": 6,
   "metadata": {},
   "outputs": [],
   "source": [
    "shot = D3DShot(D3D_DISRUPTED_SHOT, 'EFIT05',\n",
    "            disruption_time=4.369214483261109, timebase_signal='ip')\n",
    "np.save(\"./d3d_test_shot_times.npy\", shot._times)"
   ]
  },
  {
   "attachments": {},
   "cell_type": "markdown",
   "metadata": {},
   "source": [
    "# Generate CMod test data"
   ]
  },
  {
   "cell_type": "code",
   "execution_count": null,
   "metadata": {},
   "outputs": [],
   "source": [
    "cmod = create_cmod_handler()\n",
    "# Get 10 shot_ids from a shuffled list of disruption_warning_Shotlist \n",
    "test_shot_ids = cmod.get_disruption_warning_shotlist().values\n",
    "np.random.shuffle(test_shot_ids)\n",
    "test_shot_ids = test_shot_ids[:NUM_TEST_SHOTS].flatten().tolist()\n",
    "requested_shots = [1120814006, # Disrupted shot requested by Cristina\n",
    "                       1090820017, 1090806010 # Density limit shots requested by andrew\n",
    "]\n",
    "test_shot_ids[-len(requested_shots):] = requested_shots\n",
    "test_shots_df = cmod.get_shot_data(test_shot_ids)\n",
    "test_shots_df.to_pickle(\"./cmod_test_shot_data.pkl\")"
   ]
  }
 ],
 "metadata": {
  "kernelspec": {
   "display_name": "Python 3",
   "language": "python",
   "name": "python3"
  },
  "language_info": {
   "codemirror_mode": {
    "name": "ipython",
    "version": 3
   },
   "file_extension": ".py",
   "mimetype": "text/x-python",
   "name": "python",
   "nbconvert_exporter": "python",
   "pygments_lexer": "ipython3",
   "version": "3.7.12"
  },
  "orig_nbformat": 4
 },
 "nbformat": 4,
 "nbformat_minor": 2
}
