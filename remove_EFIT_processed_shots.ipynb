{
 "cells": [
  {
   "cell_type": "markdown",
   "metadata": {},
   "source": [
    "# Remove the shots that are in the directory already"
   ]
  },
  {
   "cell_type": "code",
   "execution_count": 1,
   "metadata": {},
   "outputs": [],
   "source": [
    "import os\n",
    "\n",
    "directory = '/home/spangher/projects/data/CMOD_data_gathering/EFIT_runs/trees'\n",
    "files = os.listdir(directory)\n",
    "\n",
    "# filter out of files any string that is not of the form \"efitspangher_[ints]*\"\n",
    "files = [f for f in files if f.split('_')[0] == 'efitspangher' and f.split('_')[1][0].isdigit()]\n",
    "# \n",
    "\n",
    "# get the shot numbers from the file names\n",
    "shot_numbers = [int(f.split('_')[1].split(\".\")[0]) for f in files]\n"
   ]
  },
  {
   "cell_type": "code",
   "execution_count": 2,
   "metadata": {},
   "outputs": [
    {
     "data": {
      "text/plain": [
       "221"
      ]
     },
     "execution_count": 2,
     "metadata": {},
     "output_type": "execute_result"
    }
   ],
   "source": [
    "import pandas as pd\n",
    "\n",
    "import os\n",
    "\n",
    "directory = '/home/spangher/projects/data/CMOD_data_gathering/EFIT_runs/trees'\n",
    "files = os.listdir(directory)\n",
    "\n",
    "# filter out of files any string that is not of the form \"efitspangher_[ints]*\"\n",
    "files = [f for f in files if f.split('_')[0] == 'efitspangher' and f.split('_')[1][0].isdigit()]\n",
    "# \n",
    "\n",
    "# get the shot numbers from the file names\n",
    "shot_numbers = [int(f.split('_')[1].split(\".\")[0]) for f in files]\n",
    "\n",
    "# filter out rows of time_to_run_shots_all.csv that are in shot_numbers\n",
    "df = pd.read_csv('/home/spangher/projects/data/CMOD_data_gathering/EFIT_runs/time_to_run_shots_all.csv')\n",
    "\n",
    "pd.DataFrame(shot_numbers).to_csv('/home/spangher/projects/data/CMOD_data_gathering/EFIT_runs/processed_shots.csv', index=False, header=None)\n",
    "remaining_df = df[~df['shot'].isin(shot_numbers)]\n",
    "\n",
    "# shuffle the rows of remaining_df\n",
    "remaining_df = remaining_df.sample(frac=1).reset_index(drop=True)\n",
    "\n",
    "remaining_df.to_csv('/home/spangher/projects/data/CMOD_data_gathering/EFIT_runs/time_to_run_shots_all_1.csv', index=False)\n",
    "len(remaining_df)"
   ]
  },
  {
   "cell_type": "code",
   "execution_count": 3,
   "metadata": {},
   "outputs": [
    {
     "data": {
      "text/html": [
       "<div>\n",
       "<style scoped>\n",
       "    .dataframe tbody tr th:only-of-type {\n",
       "        vertical-align: middle;\n",
       "    }\n",
       "\n",
       "    .dataframe tbody tr th {\n",
       "        vertical-align: top;\n",
       "    }\n",
       "\n",
       "    .dataframe thead th {\n",
       "        text-align: right;\n",
       "    }\n",
       "</style>\n",
       "<table border=\"1\" class=\"dataframe\">\n",
       "  <thead>\n",
       "    <tr style=\"text-align: right;\">\n",
       "      <th></th>\n",
       "      <th>shot</th>\n",
       "      <th>start_time</th>\n",
       "      <th>end_time</th>\n",
       "    </tr>\n",
       "  </thead>\n",
       "  <tbody>\n",
       "    <tr>\n",
       "      <th>0</th>\n",
       "      <td>1150625023</td>\n",
       "      <td>0.0231</td>\n",
       "      <td>1.9113</td>\n",
       "    </tr>\n",
       "    <tr>\n",
       "      <th>1</th>\n",
       "      <td>1150904011</td>\n",
       "      <td>0.0195</td>\n",
       "      <td>1.9403</td>\n",
       "    </tr>\n",
       "    <tr>\n",
       "      <th>2</th>\n",
       "      <td>960301004</td>\n",
       "      <td>0.0261</td>\n",
       "      <td>1.1409</td>\n",
       "    </tr>\n",
       "    <tr>\n",
       "      <th>3</th>\n",
       "      <td>1050316018</td>\n",
       "      <td>0.0311</td>\n",
       "      <td>1.8249</td>\n",
       "    </tr>\n",
       "    <tr>\n",
       "      <th>4</th>\n",
       "      <td>1060407026</td>\n",
       "      <td>0.0237</td>\n",
       "      <td>1.9661</td>\n",
       "    </tr>\n",
       "    <tr>\n",
       "      <th>...</th>\n",
       "      <td>...</td>\n",
       "      <td>...</td>\n",
       "      <td>...</td>\n",
       "    </tr>\n",
       "    <tr>\n",
       "      <th>13914</th>\n",
       "      <td>1120803006</td>\n",
       "      <td>0.0257</td>\n",
       "      <td>1.8301</td>\n",
       "    </tr>\n",
       "    <tr>\n",
       "      <th>13915</th>\n",
       "      <td>1050413018</td>\n",
       "      <td>0.0255</td>\n",
       "      <td>0.8463</td>\n",
       "    </tr>\n",
       "    <tr>\n",
       "      <th>13916</th>\n",
       "      <td>1031217011</td>\n",
       "      <td>0.0189</td>\n",
       "      <td>1.7387</td>\n",
       "    </tr>\n",
       "    <tr>\n",
       "      <th>13917</th>\n",
       "      <td>1160506012</td>\n",
       "      <td>0.0279</td>\n",
       "      <td>1.6461</td>\n",
       "    </tr>\n",
       "    <tr>\n",
       "      <th>13918</th>\n",
       "      <td>1050728014</td>\n",
       "      <td>0.0247</td>\n",
       "      <td>1.7569</td>\n",
       "    </tr>\n",
       "  </tbody>\n",
       "</table>\n",
       "<p>13919 rows × 3 columns</p>\n",
       "</div>"
      ],
      "text/plain": [
       "             shot  start_time  end_time\n",
       "0      1150625023      0.0231    1.9113\n",
       "1      1150904011      0.0195    1.9403\n",
       "2       960301004      0.0261    1.1409\n",
       "3      1050316018      0.0311    1.8249\n",
       "4      1060407026      0.0237    1.9661\n",
       "...           ...         ...       ...\n",
       "13914  1120803006      0.0257    1.8301\n",
       "13915  1050413018      0.0255    0.8463\n",
       "13916  1031217011      0.0189    1.7387\n",
       "13917  1160506012      0.0279    1.6461\n",
       "13918  1050728014      0.0247    1.7569\n",
       "\n",
       "[13919 rows x 3 columns]"
      ]
     },
     "execution_count": 3,
     "metadata": {},
     "output_type": "execute_result"
    }
   ],
   "source": [
    "remaining_df"
   ]
  },
  {
   "cell_type": "code",
   "execution_count": 4,
   "metadata": {},
   "outputs": [
    {
     "data": {
      "text/plain": [
       "28622    1120905011\n",
       "24119    1100811008\n",
       "30747    1150507014\n",
       "19597    1080221021\n",
       "32419    1151001019\n",
       "33976    1160826028\n",
       "23387    1100316029\n",
       "24333    1100825017\n",
       "30336    1140801030\n",
       "1967      950112010\n",
       "16706    1060505007\n",
       "22557    1091208015\n",
       "21829    1090922022\n",
       "32235    1150917019\n",
       "20878    1090714018\n",
       "14517    1050520029\n",
       "27466    1120606018\n",
       "386       930729021\n",
       "29870    1140617002\n",
       "27465    1120606017\n",
       "Name: shot, dtype: int64"
      ]
     },
     "execution_count": 4,
     "metadata": {},
     "output_type": "execute_result"
    }
   ],
   "source": [
    "# filter out rows of time_to_run_shots_all.csv that are in shot_numbers\n",
    "df = pd.read_csv('/home/spangher/projects/data/CMOD_data_gathering/EFIT_runs/time_to_run_shots_all.csv')\n",
    "\n",
    "df[\"shot\"].sample(20)\n"
   ]
  },
  {
   "cell_type": "markdown",
   "metadata": {},
   "source": [
    "## Filter out shots that are in ts_data"
   ]
  },
  {
   "cell_type": "code",
   "execution_count": 1,
   "metadata": {},
   "outputs": [],
   "source": [
    "import pandas as pd\n",
    "import os\n",
    "\n",
    "remaining_shots = pd.read_csv(\"/home/spangher/projects/disruption-py-github/disruption-py/shot_to_download.csv\")[\"SHOT\"]\n",
    "\n",
    "# pulled shots:\n",
    "directory = '/home/spangher/projects/disruption-py-github/disruption-py/disruption_py/ts_data'\n",
    "files = os.listdir(directory)\n",
    "\n",
    "# filter out of files any string that is not of the form \"efitspangher_[ints]*\"\n",
    "files = [int(f.split(\"_\")[2].split(\".\")[0]) for f in files]\n",
    "\n",
    "# save the shots remaining_shots that are not in files\n",
    "remaining_shots = remaining_shots[~remaining_shots.isin(files)]\n",
    "remaining_shots = pd.DataFrame({\"shot\": remaining_shots})\n",
    "remaining_shots.to_csv(\"/home/spangher/projects/disruption-py-github/disruption-py/shots_to_run_disruption_py_on.csv\", index=False)\n",
    "\n",
    "# \n",
    "\n"
   ]
  },
  {
   "cell_type": "code",
   "execution_count": 2,
   "metadata": {},
   "outputs": [
    {
     "data": {
      "text/html": [
       "<div>\n",
       "<style scoped>\n",
       "    .dataframe tbody tr th:only-of-type {\n",
       "        vertical-align: middle;\n",
       "    }\n",
       "\n",
       "    .dataframe tbody tr th {\n",
       "        vertical-align: top;\n",
       "    }\n",
       "\n",
       "    .dataframe thead th {\n",
       "        text-align: right;\n",
       "    }\n",
       "</style>\n",
       "<table border=\"1\" class=\"dataframe\">\n",
       "  <thead>\n",
       "    <tr style=\"text-align: right;\">\n",
       "      <th></th>\n",
       "      <th>shot</th>\n",
       "    </tr>\n",
       "  </thead>\n",
       "  <tbody>\n",
       "    <tr>\n",
       "      <th>0</th>\n",
       "      <td>1000322005</td>\n",
       "    </tr>\n",
       "    <tr>\n",
       "      <th>1</th>\n",
       "      <td>1000328004</td>\n",
       "    </tr>\n",
       "    <tr>\n",
       "      <th>2</th>\n",
       "      <td>1000328005</td>\n",
       "    </tr>\n",
       "    <tr>\n",
       "      <th>3</th>\n",
       "      <td>1000328007</td>\n",
       "    </tr>\n",
       "    <tr>\n",
       "      <th>4</th>\n",
       "      <td>1000328008</td>\n",
       "    </tr>\n",
       "    <tr>\n",
       "      <th>...</th>\n",
       "      <td>...</td>\n",
       "    </tr>\n",
       "    <tr>\n",
       "      <th>32024</th>\n",
       "      <td>1160926036</td>\n",
       "    </tr>\n",
       "    <tr>\n",
       "      <th>32090</th>\n",
       "      <td>1160929012</td>\n",
       "    </tr>\n",
       "    <tr>\n",
       "      <th>32121</th>\n",
       "      <td>1160930016</td>\n",
       "    </tr>\n",
       "    <tr>\n",
       "      <th>32129</th>\n",
       "      <td>1160930024</td>\n",
       "    </tr>\n",
       "    <tr>\n",
       "      <th>32140</th>\n",
       "      <td>1160930035</td>\n",
       "    </tr>\n",
       "  </tbody>\n",
       "</table>\n",
       "<p>10920 rows × 1 columns</p>\n",
       "</div>"
      ],
      "text/plain": [
       "             shot\n",
       "0      1000322005\n",
       "1      1000328004\n",
       "2      1000328005\n",
       "3      1000328007\n",
       "4      1000328008\n",
       "...           ...\n",
       "32024  1160926036\n",
       "32090  1160929012\n",
       "32121  1160930016\n",
       "32129  1160930024\n",
       "32140  1160930035\n",
       "\n",
       "[10920 rows x 1 columns]"
      ]
     },
     "execution_count": 2,
     "metadata": {},
     "output_type": "execute_result"
    }
   ],
   "source": [
    "remaining_shots"
   ]
  },
  {
   "cell_type": "code",
   "execution_count": null,
   "metadata": {},
   "outputs": [],
   "source": []
  }
 ],
 "metadata": {
  "kernelspec": {
   "display_name": "Python 3",
   "language": "python",
   "name": "python3"
  },
  "language_info": {
   "codemirror_mode": {
    "name": "ipython",
    "version": 3
   },
   "file_extension": ".py",
   "mimetype": "text/x-python",
   "name": "python",
   "nbconvert_exporter": "python",
   "pygments_lexer": "ipython3",
   "version": "3.8.10"
  }
 },
 "nbformat": 4,
 "nbformat_minor": 2
}
