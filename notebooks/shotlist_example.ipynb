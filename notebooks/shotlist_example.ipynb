{
 "cells": [
  {
   "attachments": {},
   "cell_type": "markdown",
   "metadata": {},
   "source": [
    "# How to Build a Shotlist\n",
    "\n",
    "This notebook provides an example of how to build a shotlist using tools in `disruption_py` that you can run on one of the PSFC mfews machines/virtual machines.\n",
    "\n",
    "There are three SQL databases that contain useful data: the \"runs\", \"shots\", and \"summary\" databases. Let's get these three databases as pandas dataframes. There's also an interface in the data_handler to get the list of shots in the \"disruptions\" database."
   ]
  },
  {
   "cell_type": "code",
   "execution_count": 2,
   "metadata": {},
   "outputs": [
    {
     "name": "stderr",
     "output_type": "stream",
     "text": [
      "/home/awang/repos/disruption-warning-db-workflow/disruption_py/database.py:54: UserWarning: pandas only supports SQLAlchemy connectable (engine/connection) or database string URI or sqlite3 DBAPI2 connection. Other DBAPI2 objects are not tested. Please consider using SQLAlchemy.\n",
      "  return pd.read_sql_query(query, self.conn)\n",
      "/home/awang/repos/disruption-warning-db-workflow/disruption_py/database.py:54: UserWarning: pandas only supports SQLAlchemy connectable (engine/connection) or database string URI or sqlite3 DBAPI2 connection. Other DBAPI2 objects are not tested. Please consider using SQLAlchemy.\n",
      "  return pd.read_sql_query(query, self.conn)\n",
      "/home/awang/repos/disruption-warning-db-workflow/disruption_py/database.py:54: UserWarning: pandas only supports SQLAlchemy connectable (engine/connection) or database string URI or sqlite3 DBAPI2 connection. Other DBAPI2 objects are not tested. Please consider using SQLAlchemy.\n",
      "  return pd.read_sql_query(query, self.conn)\n",
      "/home/awang/repos/disruption-warning-db-workflow/disruption_py/database.py:54: UserWarning: pandas only supports SQLAlchemy connectable (engine/connection) or database string URI or sqlite3 DBAPI2 connection. Other DBAPI2 objects are not tested. Please consider using SQLAlchemy.\n",
      "  return pd.read_sql_query(query, self.conn)\n"
     ]
    },
    {
     "name": "stdout",
     "output_type": "stream",
     "text": [
      "      USERNAME                     ENTERED      RUN      BRIEF  DBKEY\n",
      "0      COCHRAN  2000-03-21 10:17:53.640000      321              1149\n",
      "1      slwalsh  2022-05-04 16:40:55.147000   220504  Not C-Mod   2888\n",
      "2        TERRY  2022-05-06 11:06:05.243000   220506  Not C-Mod   2903\n",
      "3         YLIN  2022-05-17 16:12:49.470000   220517  Not C-Mod   2904\n",
      "4         YLIN  2022-05-18 09:27:46.133000   220518  Not C-Mod   2905\n",
      "...        ...                         ...      ...        ...    ...\n",
      "2263   WUKITCH  2022-04-08 13:21:51.373000  1220408  Not C-Mod   2879\n",
      "2264   WUKITCH  2022-04-11 16:20:08.437000  1220411  Not C-Mod   2880\n",
      "2265   WUKITCH  2022-04-12 08:50:02.517000  1220412  Not C-Mod   2881\n",
      "2266  gdecrist  2022-04-19 13:03:06.600000  1220419  Not C-Mod   2884\n",
      "2267   WUKITCH  2022-05-04 08:59:32.480000  1220504  Not C-Mod   2886\n",
      "\n",
      "[2268 rows x 5 columns]\n"
     ]
    }
   ],
   "source": [
    "from disruption_py.database import create_cmod_handler\n",
    "\n",
    "data_handler = create_cmod_handler()\n",
    "runs_table = data_handler.query(f\"select * from runs\", use_pandas=True)\n",
    "shots_table = data_handler.query(f\"select * from shots\", use_pandas=True)\n",
    "summary_table = data_handler.query(f\"select * from summary\", use_pandas=True)\n",
    "disruptions_shot_list = data_handler.get_disruption_shotlist()\n",
    "\n",
    "print(runs_table)"
   ]
  },
  {
   "attachments": {},
   "cell_type": "markdown",
   "metadata": {},
   "source": [
    "## Example of Filtering Shots\n",
    "So one day, I wanted to gather data for all shots that are \"OK\", were done from 2010 onward, and weren't disruptive (i.e. in the disruptions database). The little snippet of code below filters the shots database to get the shots that meet these criteria and saves the shot numbers to a pickle file."
   ]
  },
  {
   "cell_type": "code",
   "execution_count": 9,
   "metadata": {},
   "outputs": [
    {
     "name": "stdout",
     "output_type": "stream",
     "text": [
      "        USERNAME                     ENTERED      RUN        SHOT  \\\n",
      "14434  MDSSERVER  2000-03-14 10:03:06.857000  1000314  1000314001   \n",
      "14435  MDSSERVER  2000-03-14 10:28:54.420000  1000314  1000314002   \n",
      "14436  MDSSERVER  2000-03-20 08:35:43.890000  1000320  1000320001   \n",
      "14437  MDSSERVER  2000-03-20 08:49:45.810000  1000320  1000320002   \n",
      "14438  MDSSERVER  2000-03-20 09:01:19.470000  1000320  1000320003   \n",
      "...          ...                         ...      ...         ...   \n",
      "51814    mdsplus  2017-01-11 12:21:56.287000  1170111  1170111001   \n",
      "51815    mdsplus  2017-01-11 13:08:46.900000  1170111  1170111002   \n",
      "51816    mdsplus  2017-01-11 13:31:59.830000  1170111  1170111003   \n",
      "51818    mdsplus  2017-01-12 08:22:18.400000  1170112  1170112001   \n",
      "51819    mdsplus  2017-01-12 11:06:33.400000  1170112  1170112002   \n",
      "\n",
      "              BRIEF PLASMA_SHOT    QUALITY_COMMENT  SHOT_OK  \\\n",
      "14434   no comment            T                ‰0\u0018      1.0   \n",
      "14435   no comment            T                ‰0\u0018      1.0   \n",
      "14436   no comment            T  OH1 Cap Bank Test      1.0   \n",
      "14437   no comment            T       test OH2u OK      1.0   \n",
      "14438   no comment            T  OH2 Cap BAnk Test      1.0   \n",
      "...             ...         ...                ...      ...   \n",
      "51814    no comment           T                         1.0   \n",
      "51815    no comment           T                         1.0   \n",
      "51816    no comment           T                         1.0   \n",
      "51818    no comment           T                         1.0   \n",
      "51819    no comment           T                         1.0   \n",
      "\n",
      "       TOTAL_UNCOMPRESSED_SIZE  TOTAL_COMPRESSED_SIZE  TOTAL_UNCOMPRESSED_UMN  \\\n",
      "14434             1.678660e+08           3.780000e+07                     NaN   \n",
      "14435             1.686660e+08           3.778310e+07                     NaN   \n",
      "14436             1.644160e+08           3.772030e+07                     NaN   \n",
      "14437             6.054490e+06           1.966160e+06                     NaN   \n",
      "14438             2.785490e+07           6.135780e+06                     NaN   \n",
      "...                        ...                    ...                     ...   \n",
      "51814             3.793600e+09           1.628390e+09             513752000.0   \n",
      "51815             5.757430e+09           2.305470e+09             513752000.0   \n",
      "51816             5.757390e+09           2.304500e+09             513752000.0   \n",
      "51818             5.083400e+09           1.993610e+09             513752000.0   \n",
      "51819             5.757830e+09           2.305220e+09             513752000.0   \n",
      "\n",
      "       TOTAL_COMPRESSED_UMN  TOTAL_UNCOMPRESSED  TOTAL_COMPRESSED  \\\n",
      "14434                   NaN        1.678660e+08      3.780000e+07   \n",
      "14435                   NaN        1.686660e+08      3.778310e+07   \n",
      "14436                   NaN        1.644160e+08      3.772030e+07   \n",
      "14437                   NaN        6.054490e+06      1.966160e+06   \n",
      "14438                   NaN        2.785490e+07      6.135780e+06   \n",
      "...                     ...                 ...               ...   \n",
      "51814           175863000.0        4.307352e+09      1.804253e+09   \n",
      "51815           175867000.0        6.271182e+09      2.481337e+09   \n",
      "51816           175882000.0        6.271142e+09      2.480382e+09   \n",
      "51818           175812000.0        5.597152e+09      2.169422e+09   \n",
      "51819           175833000.0        6.271582e+09      2.481053e+09   \n",
      "\n",
      "         INIT_TIME  STORE_TIME  ANALYSIS_TIME  DBKEY  NODATA  \n",
      "14434    99.917824   443.57458     269.116490  27552     NaN  \n",
      "14435    65.179266   410.00880     234.790990  27553     NaN  \n",
      "14436   138.015540   465.51193      84.438073  27554     NaN  \n",
      "14437    65.222232   104.08385       8.078584  27555     NaN  \n",
      "14438    69.134365   232.55383      11.674057  27556     NaN  \n",
      "...            ...         ...            ...    ...     ...  \n",
      "51814  1028.773300  1502.64460       2.199877  65877     NaN  \n",
      "51815   302.841020   850.34267       2.130057  65878     NaN  \n",
      "51816    59.950064   428.72712       2.183267  65879     NaN  \n",
      "51818   142.816680   421.16029       2.133079  65881     NaN  \n",
      "51819    55.223756   431.25074       2.019440  65882     NaN  \n",
      "\n",
      "[26205 rows x 19 columns]\n"
     ]
    }
   ],
   "source": [
    "\n",
    "def filter_shots_table(shots_table, disruptions_shot_list):\n",
    "\n",
    "    # Only keep shots that are \"ok\".\n",
    "    shots_table = shots_table[shots_table.SHOT_OK == 1]\n",
    "\n",
    "    # Only keep shots that are 2010 or later.\n",
    "    shots_table = shots_table[shots_table.SHOT > 1000000000]\n",
    "\n",
    "    # Remove shots that are in the disruption shot list.\n",
    "    also_in_disruptions_shot_list = shots_table.SHOT.isin(disruptions_shot_list.shot.to_numpy())\n",
    "    shots_table = shots_table[~also_in_disruptions_shot_list]\n",
    "    return shots_table\n",
    "\n",
    "\n",
    "filtered_shots_table = filter_shots_table(shots_table, disruptions_shot_list)\n",
    "print(filtered_shots_table)\n",
    "filtered_shots_table.SHOT.to_pickle(\"/tmp/shots_2010_and_later.pkl\")"
   ]
  }
 ],
 "metadata": {
  "kernelspec": {
   "display_name": "Python 3",
   "language": "python",
   "name": "python3"
  },
  "language_info": {
   "codemirror_mode": {
    "name": "ipython",
    "version": 3
   },
   "file_extension": ".py",
   "mimetype": "text/x-python",
   "name": "python",
   "nbconvert_exporter": "python",
   "pygments_lexer": "ipython3",
   "version": "3.8.10"
  },
  "orig_nbformat": 4,
  "vscode": {
   "interpreter": {
    "hash": "31f2aee4e71d21fbe5cf8b01ff0e069b9275f58929596ceb00d14d90e3e16cd6"
   }
  }
 },
 "nbformat": 4,
 "nbformat_minor": 2
}
